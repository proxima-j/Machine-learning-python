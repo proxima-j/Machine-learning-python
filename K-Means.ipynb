{
 "cells": [
  {
   "cell_type": "code",
   "execution_count": 1,
   "id": "b30fdca6",
   "metadata": {},
   "outputs": [],
   "source": [
    "from __future__ import print_function\n",
    "from numpy import *\n",
    "import pandas as pd\n",
    "import sklearn.datasets as datasets\n",
    "%matplotlib inline"
   ]
  },
  {
   "cell_type": "code",
   "execution_count": 2,
   "id": "5b76216c",
   "metadata": {},
   "outputs": [],
   "source": [
    "def loadDataSet(fileName):  \n",
    "    dataSet = []\n",
    "    fr = open(fileName)\n",
    "    for line in fr.readlines():\n",
    "        curLine = line.strip().split('\\t')\n",
    "        fltLine = map(float, curLine) \n",
    "        dataSet.append(fltLine)\n",
    "    return dataSet"
   ]
  },
  {
   "cell_type": "code",
   "execution_count": 3,
   "id": "353b50c8",
   "metadata": {},
   "outputs": [],
   "source": [
    "def distEclud(vecA, vecB):\n",
    "    return sqrt(sum(power(vecA - vecB, 2))) "
   ]
  },
  {
   "cell_type": "code",
   "execution_count": 4,
   "id": "d66a1b75",
   "metadata": {},
   "outputs": [],
   "source": [
    "def randCent(dataMat, k):\n",
    "    n = shape(dataMat)[1]\n",
    "    centroids = mat(zeros((k, n))) \n",
    "    for j in range(n):\n",
    "        minJ = min(dataMat[:, j]) \n",
    "        rangeJ = float(max(dataMat[:, j]) - minJ)  \n",
    "        centroids[:, j] = mat(minJ + rangeJ * random.rand(k, 1))  \n",
    "    return centroids"
   ]
  },
  {
   "cell_type": "code",
   "execution_count": 5,
   "id": "d6b008d0",
   "metadata": {},
   "outputs": [],
   "source": [
    "def kMeans(dataMat, k, distMeas=distEclud, createCent=randCent):\n",
    "    m = shape(dataMat)[0] \n",
    "    clusterAssment = mat(zeros(\n",
    "        (m, 2))) \n",
    "    centroids = createCent(dataMat, k)\n",
    "    clusterChanged = True\n",
    "    while clusterChanged:\n",
    "        clusterChanged = False\n",
    "        for i in range(m):  \n",
    "            minDist = inf\n",
    "            minIndex = -1\n",
    "            for j in range(k):\n",
    "                distJI = distMeas(centroids[j, :],\n",
    "                                  dataMat[i, :]) \n",
    "                if distJI < minDist:  \n",
    "                    minDist = distJI\n",
    "                    minIndex = j\n",
    "            if clusterAssment[i, 0] != minIndex:  \n",
    "                clusterChanged = True \n",
    "                clusterAssment[\n",
    "                    i, :] = minIndex, minDist**2  \n",
    "        print(centroids)\n",
    "        for cent in range(k):  \n",
    "            ptsInClust = dataMat[nonzero(\n",
    "                clusterAssment[:, 0].A == cent)[0]]  \n",
    "            centroids[cent, :] = mean(\n",
    "                ptsInClust, axis=0)  \n",
    "    return centroids, clusterAssment\n"
   ]
  },
  {
   "cell_type": "code",
   "execution_count": 6,
   "id": "625662f3",
   "metadata": {},
   "outputs": [],
   "source": [
    "def biKMeans(dataMat, k, distMeas=distEclud):\n",
    "    m = shape(dataMat)[0]\n",
    "    clusterAssment = mat(zeros((m, 2)))  \n",
    "    centroid0 = mean(dataMat, axis=0).tolist()[0]  \n",
    "    centList = [centroid0]  \n",
    "    for j in range(m):  \n",
    "        clusterAssment[j, 1] = distMeas(mat(centroid0), dataMat[j, :])**2\n",
    "    while (len(centList) < k):  \n",
    "        lowestSSE = inf\n",
    "        for i in range(len(centList)):  \n",
    "            ptsInCurrCluster = dataMat[nonzero(\n",
    "                clusterAssment[:, 0].A == i)[0], :] \n",
    "            centroidMat, splitClustAss = kMeans(\n",
    "                ptsInCurrCluster, 2, distMeas)  \n",
    "            sseSplit = sum(splitClustAss[:, 1])  \n",
    "            sseNotSplit = sum(\n",
    "                clusterAssment[nonzero(clusterAssment[:, 0].A != i)[0],\n",
    "                               1]) \n",
    "            print(\"sseSplit, and notSplit: \", sseSplit, sseNotSplit)\n",
    "            if (sseSplit + sseNotSplit) < lowestSSE:\n",
    "                bestCentToSplit = i\n",
    "                bestNewCents = centroidMat\n",
    "                bestClustAss = splitClustAss.copy()\n",
    "                lowestSSE = sseSplit + sseNotSplit\n",
    "       \n",
    "        bestClustAss[nonzero(bestClustAss[:, 0].A == 1)[0], 0] = len(\n",
    "            centList)  \n",
    "        bestClustAss[nonzero(bestClustAss[:, 0].A == 0)[0],\n",
    "                     0] = bestCentToSplit \n",
    "        print('the bestCentToSplit is: ', bestCentToSplit)\n",
    "        print('the len of bestClustAss is: ', len(bestClustAss))\n",
    "        \n",
    "        centList[bestCentToSplit] = bestNewCents[0, :].tolist()[\n",
    "            0]  \n",
    "        centList.append(\n",
    "            bestNewCents[1, :].tolist()[0])  \n",
    "        clusterAssment[nonzero(clusterAssment[:, 0].A == bestCentToSplit)[\n",
    "            0], :] = bestClustAss  \n",
    "    return mat(centList), clusterAssment"
   ]
  },
  {
   "cell_type": "code",
   "execution_count": 7,
   "id": "a3e31f69",
   "metadata": {},
   "outputs": [
    {
     "data": {
      "text/html": [
       "<div>\n",
       "<style scoped>\n",
       "    .dataframe tbody tr th:only-of-type {\n",
       "        vertical-align: middle;\n",
       "    }\n",
       "\n",
       "    .dataframe tbody tr th {\n",
       "        vertical-align: top;\n",
       "    }\n",
       "\n",
       "    .dataframe thead th {\n",
       "        text-align: right;\n",
       "    }\n",
       "</style>\n",
       "<table border=\"1\" class=\"dataframe\">\n",
       "  <thead>\n",
       "    <tr style=\"text-align: right;\">\n",
       "      <th></th>\n",
       "      <th>sepal length (cm)</th>\n",
       "      <th>sepal width (cm)</th>\n",
       "      <th>petal length (cm)</th>\n",
       "      <th>petal width (cm)</th>\n",
       "      <th>species</th>\n",
       "    </tr>\n",
       "  </thead>\n",
       "  <tbody>\n",
       "    <tr>\n",
       "      <th>0</th>\n",
       "      <td>5.1</td>\n",
       "      <td>3.5</td>\n",
       "      <td>1.4</td>\n",
       "      <td>0.2</td>\n",
       "      <td>setosa</td>\n",
       "    </tr>\n",
       "    <tr>\n",
       "      <th>1</th>\n",
       "      <td>4.9</td>\n",
       "      <td>3.0</td>\n",
       "      <td>1.4</td>\n",
       "      <td>0.2</td>\n",
       "      <td>setosa</td>\n",
       "    </tr>\n",
       "    <tr>\n",
       "      <th>2</th>\n",
       "      <td>4.7</td>\n",
       "      <td>3.2</td>\n",
       "      <td>1.3</td>\n",
       "      <td>0.2</td>\n",
       "      <td>setosa</td>\n",
       "    </tr>\n",
       "    <tr>\n",
       "      <th>3</th>\n",
       "      <td>4.6</td>\n",
       "      <td>3.1</td>\n",
       "      <td>1.5</td>\n",
       "      <td>0.2</td>\n",
       "      <td>setosa</td>\n",
       "    </tr>\n",
       "    <tr>\n",
       "      <th>4</th>\n",
       "      <td>5.0</td>\n",
       "      <td>3.6</td>\n",
       "      <td>1.4</td>\n",
       "      <td>0.2</td>\n",
       "      <td>setosa</td>\n",
       "    </tr>\n",
       "  </tbody>\n",
       "</table>\n",
       "</div>"
      ],
      "text/plain": [
       "   sepal length (cm)  sepal width (cm)  petal length (cm)  petal width (cm)  \\\n",
       "0                5.1               3.5                1.4               0.2   \n",
       "1                4.9               3.0                1.4               0.2   \n",
       "2                4.7               3.2                1.3               0.2   \n",
       "3                4.6               3.1                1.5               0.2   \n",
       "4                5.0               3.6                1.4               0.2   \n",
       "\n",
       "  species  \n",
       "0  setosa  \n",
       "1  setosa  \n",
       "2  setosa  \n",
       "3  setosa  \n",
       "4  setosa  "
      ]
     },
     "execution_count": 7,
     "metadata": {},
     "output_type": "execute_result"
    }
   ],
   "source": [
    "iris_set = datasets.load_iris()\n",
    "iris_data = pd.DataFrame(iris_set.data, columns=iris_set.feature_names)\n",
    "iris_data[\"species\"] = iris_set.target\n",
    "iris_data['species'] = iris_data['species'].replace(to_replace= [0, 1, 2], value = ['setosa', 'versicolor', 'virginica'])\n",
    "iris_data.head()"
   ]
  },
  {
   "cell_type": "code",
   "execution_count": 8,
   "id": "e4efb6b0",
   "metadata": {},
   "outputs": [],
   "source": [
    "# spliting the dataset in independent and dependent variables\n",
    "x=iris_data.iloc[:,:4].values\n",
    "y=iris_data['species'].values"
   ]
  },
  {
   "cell_type": "code",
   "execution_count": 9,
   "id": "b52073ab",
   "metadata": {},
   "outputs": [],
   "source": [
    "#scaling\n",
    "from sklearn.preprocessing import StandardScaler\n",
    "standarScale=StandardScaler()\n",
    "x_train=standarScale.fit_transform(x)\n"
   ]
  },
  {
   "cell_type": "code",
   "execution_count": 10,
   "id": "b3fd615f",
   "metadata": {},
   "outputs": [],
   "source": [
    "def testBiKMeans():\n",
    "    centList, myNewAssments = biKMeans(x_train, 3)\n",
    "    print('centList=', centList)"
   ]
  },
  {
   "cell_type": "code",
   "execution_count": 11,
   "id": "2756f37c",
   "metadata": {},
   "outputs": [
    {
     "name": "stdout",
     "output_type": "stream",
     "text": [
      "[[ 0.15198373  0.73116417 -0.60422679  0.75461092]\n",
      " [ 0.62177714  3.03417099 -1.2740155  -1.32730042]]\n",
      "[[ 0.08688253 -0.22717363  0.16660631  0.15824234]\n",
      " [-0.67972799  1.77729958 -1.30344937 -1.2380136 ]]\n",
      "[[ 0.48615109 -0.43966823  0.63220101  0.60951349]\n",
      " [-1.00206653  0.90625492 -1.30310821 -1.25634413]]\n",
      "[[ 0.50728948 -0.42663134  0.65249366  0.62744675]\n",
      " [-1.01457897  0.85326268 -1.30498732 -1.25489349]]\n",
      "sseSplit, and notSplit:  145.9039828254881 0.0\n",
      "the bestCentToSplit is:  0\n",
      "the len of bestClustAss is:  150\n",
      "[[ 0.32429989 -2.30216078 -0.10011421 -0.08985795]\n",
      " [-0.99236353  0.61765983  1.20078413  0.13623694]]\n",
      "[[ 0.2534428  -1.11031574  0.47146646  0.29704996]\n",
      " [ 0.67652061  0.02915826  0.77317846  0.84771127]]\n",
      "[[-0.07570844 -0.97929949  0.3334543   0.23333438]\n",
      " [ 1.02428764  0.06347061  0.93541536  0.97694261]]\n",
      "[[-0.07723421 -0.93062132  0.32313817  0.23727821]\n",
      " [ 1.06889068  0.05759433  0.96893325  1.00231456]]\n",
      "sseSplit, and notSplit:  287.6532863186939 145.9039828254881\n",
      "[[-1.26847016  1.79540717 -1.0960502  -0.85112392]\n",
      " [-0.73134225  1.61135981 -1.4836522  -1.26833772]]\n",
      "[[-1.29447675  0.96145516 -1.25497039 -1.08508797]\n",
      " [-0.99024003  0.84385464 -1.30933662 -1.26965919]]\n",
      "[[-1.33342356  0.85457809 -1.307748   -1.2402259 ]\n",
      " [-0.89058385  0.85275113 -1.30391373 -1.26059755]]\n",
      "[[-1.42170301  0.19029599 -1.33170091 -1.3220259 ]\n",
      " [-0.74316294  1.29524047 -1.28717826 -1.21013855]]\n",
      "[[-1.35230687  0.11914427 -1.31439133 -1.29749445]\n",
      " [-0.74922133  1.43007001 -1.29759846 -1.22142131]]\n",
      "sseSplit, and notSplit:  38.639277359531036 0.0\n",
      "the bestCentToSplit is:  1\n",
      "the len of bestClustAss is:  50\n",
      "centList= [[ 0.50728948 -0.42663134  0.65249366  0.62744675]\n",
      " [-1.35230687  0.11914427 -1.31439133 -1.29749445]\n",
      " [-0.74922133  1.43007001 -1.29759846 -1.22142131]]\n"
     ]
    }
   ],
   "source": [
    "if __name__ == \"__main__\":\n",
    "    testBiKMeans()"
   ]
  }
 ],
 "metadata": {
  "kernelspec": {
   "display_name": "Python 3 (ipykernel)",
   "language": "python",
   "name": "python3"
  },
  "language_info": {
   "codemirror_mode": {
    "name": "ipython",
    "version": 3
   },
   "file_extension": ".py",
   "mimetype": "text/x-python",
   "name": "python",
   "nbconvert_exporter": "python",
   "pygments_lexer": "ipython3",
   "version": "3.9.12"
  }
 },
 "nbformat": 4,
 "nbformat_minor": 5
}
