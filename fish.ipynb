{
 "cells": [
  {
   "cell_type": "code",
   "execution_count": 1,
   "id": "2fa074d8",
   "metadata": {},
   "outputs": [
    {
     "name": "stdout",
     "output_type": "stream",
     "text": [
      "Automatically created module for IPython interactive environment\n"
     ]
    }
   ],
   "source": [
    "from __future__ import print_function\n",
    "print(__doc__)\n",
    "import operator\n",
    "from math import log\n",
    "from collections import Counter\n",
    "\n",
    "from matplotlib import pyplot as dtPlot"
   ]
  },
  {
   "cell_type": "code",
   "execution_count": 2,
   "id": "cb59ed46",
   "metadata": {},
   "outputs": [],
   "source": [
    "def createDataSet():\n",
    "    dataSet = [(1, 1, 'yes'),\n",
    "               (1, 1, 'yes'),\n",
    "               (1, 0, 'no'),\n",
    "               (0, 1, 'no'),\n",
    "               (0, 1, 'no')]\n",
    "    labels = ['no surfacing', 'flippers']\n",
    "    return dataSet, labels"
   ]
  },
  {
   "cell_type": "code",
   "execution_count": 3,
   "id": "c85c3f4b",
   "metadata": {},
   "outputs": [],
   "source": [
    "def calcShannonEnt(dataSet):\n",
    "    label_count = Counter(data[-1] for data in dataSet)\n",
    "    probs = [p[1] / len(dataSet) for p in label_count.items()]\n",
    "    shannonEnt = sum([-p * log(p, 2) for p in probs])\n",
    "    return shannonEnt\n"
   ]
  },
  {
   "cell_type": "code",
   "execution_count": 4,
   "id": "4c1b8dfd",
   "metadata": {},
   "outputs": [],
   "source": [
    "def splitDataSet(dataSet, index, value):\n",
    "    retDataSet = []\n",
    "    for featVec in dataSet: \n",
    "        if featVec[index] == value:\n",
    "            reducedFeatVec = [featVec[:index]]\n",
    "            reducedFeatVec.extend(featVec[index+1:])\n",
    "            retDataSet.append(reducedFeatVec)\n",
    "    return retDataSet\n"
   ]
  },
  {
   "cell_type": "code",
   "execution_count": 5,
   "id": "7087a61d",
   "metadata": {},
   "outputs": [],
   "source": [
    "def chooseBestFeatureToSplit(dataSet):\n",
    "     base_entropy = calcShannonEnt(dataSet)\n",
    "     best_info_gain = 0\n",
    "     best_feature = -1\n",
    "     for i in range(len(dataSet[0]) - 1):\n",
    "         feature_count = Counter([data[i] for data in dataSet])\n",
    "         new_entropy = sum(feature[1] / float(len(dataSet)) * calcShannonEnt(splitDataSet(dataSet, i, feature[0])) \\\n",
    "                        for feature in feature_count.items())\n",
    "  \n",
    "         info_gain = base_entropy - new_entropy\n",
    "         print('No. {0} feature info gain is {1:.3f}'.format(i, info_gain))\n",
    "         if info_gain > best_info_gain:\n",
    "             best_info_gain = info_gain\n",
    "             best_feature = i\n",
    "     return best_feature\n",
    "   "
   ]
  },
  {
   "cell_type": "code",
   "execution_count": 6,
   "id": "fa5430b9",
   "metadata": {},
   "outputs": [],
   "source": [
    "\n",
    "def majorityCnt(classList):\n",
    "     major_label = Counter(classList).most_common(1)[0]\n",
    "     return major_label"
   ]
  },
  {
   "cell_type": "code",
   "execution_count": null,
   "id": "261e82b3",
   "metadata": {},
   "outputs": [],
   "source": []
  },
  {
   "cell_type": "code",
   "execution_count": 7,
   "id": "a660ca23",
   "metadata": {},
   "outputs": [],
   "source": [
    "def createTree(dataSet, labels):\n",
    "    classList = [example[-1] for example in dataSet]\n",
    "    if classList.count(classList[0]) == len(classList):\n",
    "        return classList[0]\n",
    " \n",
    "    if len(dataSet[0]) == 1:\n",
    "        return majorityCnt(classList)\n",
    "\n",
    "   \n",
    "    bestFeat = chooseBestFeatureToSplit(dataSet)\n",
    "    bestFeatLabel = labels[bestFeat]\n",
    "    myTree = {bestFeatLabel: {}}\n",
    "    featValues = [example[bestFeat] for example in dataSet]\n",
    "    uniqueVals = set(featValues)\n",
    "        \n",
    "    for value in uniqueVals:\n",
    "        del_bestFeat = bestFeat\n",
    "        del_labels = labels[bestFeat]\n",
    "        subLabels = labels[:]\n",
    "        del (labels[bestFeat])\n",
    "        myTree[bestFeatLabel][value] = createTree(splitDataSet(dataSet, bestFeat, value), subLabels)\n",
    "        labels.insert(del_bestFeat, del_labels)\n",
    "    return myTree"
   ]
  },
  {
   "cell_type": "code",
   "execution_count": 8,
   "id": "c559de7f",
   "metadata": {},
   "outputs": [],
   "source": [
    "def classify(inputTree, featLabels, testVec):\n",
    "    firstStr = list(inputTree.keys())[0]\n",
    "    secondDict = inputTree[firstStr]\n",
    "    featIndex = featLabels.index(firstStr)\n",
    "    key = testVec[featIndex]\n",
    "    valueOfFeat = secondDict[key]\n",
    "    print('+++', firstStr, 'xxx', secondDict, '---', key, '>>>', valueOfFeat)\n",
    "    if isinstance(valueOfFeat, dict):\n",
    "        classLabel = classify(valueOfFeat, featLabels, testVec)\n",
    "    else:\n",
    "        classLabel = valueOfFeat\n",
    "    return classLabel"
   ]
  },
  {
   "cell_type": "code",
   "execution_count": 9,
   "id": "cbd8968d",
   "metadata": {},
   "outputs": [],
   "source": [
    "def storeTree(inputTree, filename):\n",
    "    import pickle\n",
    "    fw = open(filename, 'wb')\n",
    "    pickle.dump(inputTree, fw)\n",
    "    fw.close()"
   ]
  },
  {
   "cell_type": "code",
   "execution_count": 10,
   "id": "ff937d6e",
   "metadata": {},
   "outputs": [],
   "source": [
    "def grabTree(filename):\n",
    "    import pickle\n",
    "    fr = open(filename,'rb')\n",
    "    return pickle.load(fr)"
   ]
  },
  {
   "cell_type": "code",
   "execution_count": 11,
   "id": "bf692a62",
   "metadata": {},
   "outputs": [],
   "source": [
    "def get_tree_height(tree):\n",
    "    if not isinstance(tree, dict):\n",
    "        return 1\n",
    "\n",
    "    child_trees =list( tree.values())[0].values()\n",
    "\n",
    "    max_height = 0\n",
    "    for child_tree in child_trees:\n",
    "        child_tree_height = get_tree_height(child_tree)\n",
    "\n",
    "        if child_tree_height > max_height:\n",
    "            max_height = child_tree_height\n",
    "\n",
    "    return max_height + 1"
   ]
  },
  {
   "cell_type": "code",
   "execution_count": 12,
   "id": "321f2919",
   "metadata": {},
   "outputs": [],
   "source": [
    "\n",
    "def fishTest():\n",
    "   \n",
    "    myDat, labels = createDataSet()\n",
    "\n",
    "    import copy\n",
    "    myTree = createTree(myDat, copy.deepcopy(labels))\n",
    "    print(myTree)\n",
    "    print(classify(myTree, labels, [1, 1]))\n",
    "    print(get_tree_height(myTree))\n"
   ]
  },
  {
   "cell_type": "code",
   "execution_count": 13,
   "id": "cd4a25d3",
   "metadata": {},
   "outputs": [
    {
     "name": "stdout",
     "output_type": "stream",
     "text": [
      "No. 0 feature info gain is 0.420\n",
      "No. 1 feature info gain is 0.171\n",
      "No. 0 feature info gain is 0.000\n",
      "No. 1 feature info gain is 0.918\n",
      "{'no surfacing': {0: 'no', 1: {'flippers': {0: 'no', 1: 'yes'}}}}\n",
      "+++ no surfacing xxx {0: 'no', 1: {'flippers': {0: 'no', 1: 'yes'}}} --- 1 >>> {'flippers': {0: 'no', 1: 'yes'}}\n",
      "+++ flippers xxx {0: 'no', 1: 'yes'} --- 1 >>> yes\n",
      "yes\n",
      "3\n"
     ]
    }
   ],
   "source": [
    "if __name__ == '__main__':\n",
    "   fishTest()"
   ]
  }
 ],
 "metadata": {
  "kernelspec": {
   "display_name": "Python 3 (ipykernel)",
   "language": "python",
   "name": "python3"
  },
  "language_info": {
   "codemirror_mode": {
    "name": "ipython",
    "version": 3
   },
   "file_extension": ".py",
   "mimetype": "text/x-python",
   "name": "python",
   "nbconvert_exporter": "python",
   "pygments_lexer": "ipython3",
   "version": "3.9.12"
  }
 },
 "nbformat": 4,
 "nbformat_minor": 5
}
